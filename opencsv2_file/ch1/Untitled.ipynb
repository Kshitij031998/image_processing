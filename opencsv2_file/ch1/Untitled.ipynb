{
 "cells": [
  {
   "cell_type": "markdown",
   "metadata": {},
   "source": [
    "## download numpy,anaconda navigator and opencv\n",
     "### link :https://www.anaconda.com/download/\n",
    "### link :https://solarianprogrammer.com/2016/09/17/install-opencv-3-with-python-3-on-windows/\n",
    "### link:https://www.lfd.uci.edu/~gohlke/pythonlibs/#opencv"
   ]
  },
  {
   "cell_type": "code",
   "execution_count": 1,
   "metadata": {},
   "outputs": [],
   "source": [
    "import numpy as np"
   ]
  },
  {
   "cell_type": "code",
   "execution_count": 2,
   "metadata": {},
   "outputs": [],
   "source": [
    "import cv2"
   ]
  },
  {
   "cell_type": "code",
   "execution_count": 3,
   "metadata": {},
   "outputs": [
    {
     "data": {
      "text/plain": [
       "27"
      ]
     },
     "execution_count": 3,
     "metadata": {},
     "output_type": "execute_result"
    }
   ],
   "source": [
    "img=cv2.imread(\"python_girl.jpg\")# reads image\n",
    "cv2.namedWindow(\"Picture\",cv2.WINDOW_NORMAL)#makes \"normal_window\" with title \"picture\" \n",
    "cv2.imshow(\"Picture\",img)# show the image\n",
    "cv2.waitKey(0) # written so as the window takes 0 second to open file\n",
    "#to exit press any key i pressed esc key and in hardware esc key has valu 27 thus returned in output"
   ]
  },
  {
   "cell_type": "code",
   "execution_count": 4,
   "metadata": {},
   "outputs": [
    {
     "data": {
      "text/plain": [
       "True"
      ]
     },
     "execution_count": 4,
     "metadata": {},
     "output_type": "execute_result"
    }
   ],
   "source": [
    "cv2.imwrite(\"output.jpg\",img) #makes another jpg file of same image\n",
    "# as soon as the copy image is formed it returns true as conformation"
   ]
  },
  {
   "cell_type": "code",
   "execution_count": null,
   "metadata": {},
   "outputs": [],
   "source": []
  }
 ],
 "metadata": {
  "kernelspec": {
   "display_name": "Python 3",
   "language": "python",
   "name": "python3"
  },
  "language_info": {
   "codemirror_mode": {
    "name": "ipython",
    "version": 3
   },
   "file_extension": ".py",
   "mimetype": "text/x-python",
   "name": "python",
   "nbconvert_exporter": "python",
   "pygments_lexer": "ipython3",
   "version": "3.6.4"
  }
 },
 "nbformat": 4,
 "nbformat_minor": 2
}

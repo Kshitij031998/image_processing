{
 "cells": [
  {
   "cell_type": "markdown",
   "metadata": {},
   "source": [
    "## coloring window"
   ]
  },
  {
   "cell_type": "code",
   "execution_count": 1,
   "metadata": {},
   "outputs": [],
   "source": [
    "import numpy as np\n",
    "import cv2"
   ]
  },
  {
   "cell_type": "code",
   "execution_count": 2,
   "metadata": {},
   "outputs": [
    {
     "name": "stdout",
     "output_type": "stream",
     "text": [
      "[0]\n",
      "[0]\n",
      "[0]\n",
      "[0]\n"
     ]
    }
   ],
   "source": [
    "black=np.zeros([150,200,1],'uint8')\n",
    "cv2.imshow(\"Black\",black)\n",
    "print(black[0,0,:])"
   ]
  },
  {
   "cell_type": "code",
   "execution_count": 3,
   "metadata": {},
   "outputs": [
    {
     "name": "stdout",
     "output_type": "stream",
     "text": [
      "[127 127 127]\n",
      "[127 127 127]\n",
      "[127 127 127]\n",
      "[127 127 127]\n"
     ]
    }
   ],
   "source": [
    "ones=np.ones([150,200,3],\"uint8\")\n",
    "ones *= (2**7-1) # change the shade of colour from black to white more close to uint\"a\" more the change toward white\n",
    "cv2.imshow(\"Ones\",ones)\n",
    "print(ones[0,0,:])"
   ]
  },
  {
   "cell_type": "code",
   "execution_count": 4,
   "metadata": {},
   "outputs": [
    {
     "name": "stdout",
     "output_type": "stream",
     "text": [
      "[65535 65535 65535]\n",
      "[65535 65535 65535]\n",
      "[65535 65535 65535]\n",
      "[65535 65535 65535]\n"
     ]
    }
   ],
   "source": [
    "white=np.ones([150,200,3],\"uint16\")\n",
    "white *= (2**16-1)\n",
    "cv2.imshow(\"White\",white)\n",
    "print(white[0,0,:])"
   ]
  },
  {
   "cell_type": "code",
   "execution_count": null,
   "metadata": {},
   "outputs": [],
   "source": [
    "color=ones.copy() # changes in one copies in color\n",
    "color[:,:] = (255,0,0) # code for bue color\n",
    "cv2.imshow(\"Blue\",color) #faded blue because we have faded white \n",
    "#taken only on ones because ones=np.ones([150,200,3],\"uint8\") works on 3*3 matrix\n",
    "#also ones *= (2**7-1) less towards whiteness"
   ]
  },
  {
   "cell_type": "code",
   "execution_count": null,
   "metadata": {},
   "outputs": [],
   "source": [
    "cv2.waitKey(0)\n",
    "cv2.destroyAllWindows()"
   ]
  }
 ],
 "metadata": {
  "kernelspec": {
   "display_name": "Python 3",
   "language": "python",
   "name": "python3"
  },
  "language_info": {
   "codemirror_mode": {
    "name": "ipython",
    "version": 3
   },
   "file_extension": ".py",
   "mimetype": "text/x-python",
   "name": "python",
   "nbconvert_exporter": "python",
   "pygments_lexer": "ipython3",
   "version": "3.6.4"
  }
 },
 "nbformat": 4,
 "nbformat_minor": 2
}

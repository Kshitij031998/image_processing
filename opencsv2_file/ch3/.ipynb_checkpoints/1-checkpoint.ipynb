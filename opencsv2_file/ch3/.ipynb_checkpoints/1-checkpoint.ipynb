{
 "cells": [
  {
   "cell_type": "code",
   "execution_count": null,
   "metadata": {},
   "outputs": [
    {
     "name": "stdout",
     "output_type": "stream",
     "text": [
      "(204, 247, 3)\n",
      "(204, 247, 3)\n"
     ]
    }
   ],
   "source": [
    "import numpy as np\n",
    "import cv2\n",
    "\n",
    "color=cv2.imread(\"butterfly.jpg\",1) #reads image , 1 by default value of shownf image at left \n",
    "cv2.imshow(\"picture\",color) #shows image\n",
    "cv2.moveWindow(\"picture\",0,0) #moves window to left corner\n",
    "print(color.shape) # prints height,width,channel\n",
    "height,width,channels =color.shape # stores its value\n",
    "\n",
    "# wheter its colorful image or black and white channel used are 3\n",
    "color2=cv2.imread(\"black.png\")\n",
    "cv2.namedWindow(\"photo\",cv2.WINDOW_NORMAL)\n",
    "cv2.imshow(\"photo\",color2)\n",
    "print(color.shape)\n",
    "\n",
    "#conclusion:any photo is defined over 3 channels \n",
    " # working on split colors\n",
    "    \n",
    "b,g,r=cv2.split(color)\n",
    "bgr_split=np.empty([height,width*3,3],\"uint8\")\n",
    "bgr_split[:, 0:width]=cv2.merge([b,b,b]) #for blue\n",
    "bgr_split[:,width:width*2]=cv2.merge([g,g,g])# for green\n",
    "bgr_split[:,width*2:width*3]=cv2.merge([r,r,r])#for red\n",
    "cv2.imshow(\"channels\",bgr_split)\n",
    "cv2.moveWindow(\"Channels\",0,height)\n",
    " \n",
    "#showing hsv image conversion\n",
    "\n",
    "hsv =cv2.cvtColor(color,cv2.COLOR_BGR2HSV)# bgr to hsv format\n",
    "h,s,v=cv2.split(hsv) # split its value\n",
    "hsv_split = np.concatenate((h,s,v),axis=1) # to slow spliting we concatinate at axis 1\n",
    "cv2.imshow(\"Split HSV\",hsv_split) # showing hsv image\n",
    "\n",
    "\n",
    "cv2.waitKey(0)\n",
    "cv2.destroyAllWindows()"
   ]
  },
  {
   "cell_type": "code",
   "execution_count": null,
   "metadata": {},
   "outputs": [],
   "source": []
  }
 ],
 "metadata": {
  "kernelspec": {
   "display_name": "Python 3",
   "language": "python",
   "name": "python3"
  },
  "language_info": {
   "codemirror_mode": {
    "name": "ipython",
    "version": 3
   },
   "file_extension": ".py",
   "mimetype": "text/x-python",
   "name": "python",
   "nbconvert_exporter": "python",
   "pygments_lexer": "ipython3",
   "version": "3.6.4"
  }
 },
 "nbformat": 4,
 "nbformat_minor": 2
}

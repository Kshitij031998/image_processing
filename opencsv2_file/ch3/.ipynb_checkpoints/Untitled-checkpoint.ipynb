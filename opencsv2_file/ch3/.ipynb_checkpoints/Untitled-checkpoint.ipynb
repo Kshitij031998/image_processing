{
 "cells": [
  {
   "cell_type": "code",
   "execution_count": null,
   "metadata": {},
   "outputs": [],
   "source": [
    "import numpy as np\n",
    "import cv2\n",
    "\n",
    "\n",
    "color =cv2.imread(\"butterfly.jpg\",1)\n",
    "\n",
    "gray=cv2.cvtColor(color,cv2.COLOR_RGB2GRAY)\n",
    "cv2.imwrite(\"gray.jpg\",gray)\n",
    "#color=cv2.imread(\"gray.jpg\",1)\n",
    "#cv2.namedWindow(\"photo1\",cv2.WINDOW_NORMAL)\n",
    "#cv2.imshow(\"photo1\",color)\n",
    "\n",
    "b=color[:,:,0]\n",
    "g=color[:,:,1]\n",
    "r=color[:,:,2]\n",
    "\n",
    "rgba=cv2.merge((b,g,r,g))\n",
    "cv2.imwrite(\"rgba.png\",rgba)\n",
    "#color2=cv2.imread(\"rgba.png\")\n",
    "#cv2.namedWindow(\"photo\",cv2.WINDOW_NORMAL)\n",
    "cv2.imshow(\"photo\",cv2.imread(\"rgba.png\"))\n",
    "\n",
    "\n",
    "\n",
    "cv2.waitKey(0)\n",
    "cv2.destroyAllWindows()"
   ]
  },
  {
   "cell_type": "code",
   "execution_count": null,
   "metadata": {},
   "outputs": [],
   "source": []
  },
  {
   "cell_type": "code",
   "execution_count": null,
   "metadata": {},
   "outputs": [],
   "source": []
  }
 ],
 "metadata": {
  "kernelspec": {
   "display_name": "Python 3",
   "language": "python",
   "name": "python3"
  },
  "language_info": {
   "codemirror_mode": {
    "name": "ipython",
    "version": 3
   },
   "file_extension": ".py",
   "mimetype": "text/x-python",
   "name": "python",
   "nbconvert_exporter": "python",
   "pygments_lexer": "ipython3",
   "version": "3.6.4"
  }
 },
 "nbformat": 4,
 "nbformat_minor": 2
}
